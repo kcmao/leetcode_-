{
 "cells": [
  {
   "cell_type": "markdown",
   "metadata": {},
   "source": [
    "##  Dynamic Programing"
   ]
  },
  {
   "cell_type": "markdown",
   "metadata": {},
   "source": [
    "* 动态规划某种意义上就是将问题分解为和原问题相同的子问题，然后用递归解决，但是递归的过程可以用填表的方式代替。节省效率"
   ]
  },
  {
   "cell_type": "markdown",
   "metadata": {},
   "source": [
    "* 斐波那契\n",
    "* 数组选取不相邻的数求最大和\n",
    "* 数组选取一些数加起来等于给定的数\n",
    "* 买卖股票的最佳时机\n",
    "* 最大子序和\n",
    "\n",
    "* 背包问题 \n",
    "* 完全背包问题\n",
    "* 多重背包问题"
   ]
  },
  {
   "cell_type": "markdown",
   "metadata": {},
   "source": [
    "### 1.数组选取不相邻的数求最大和"
   ]
  },
  {
   "cell_type": "markdown",
   "metadata": {},
   "source": [
    "![dp1](./dp1.png)"
   ]
  },
  {
   "cell_type": "code",
   "execution_count": 7,
   "metadata": {},
   "outputs": [],
   "source": [
    "\"\"\"\n",
    "数组选取不相邻的数求最大和\n",
    "\"\"\"\n",
    "\"\"\"\n",
    "递归方式\n",
    "\"\"\"\n",
    "arr = [1, 2, 4, 1, 7, 8, 3]\n",
    "def rec_opt(arr, i):\n",
    "    if i == 0:\n",
    "        return arr[0]\n",
    "    elif i == 1:\n",
    "        return max(arr[0], arr[1])\n",
    "    else:\n",
    "        A = rec_opt(arr, i - 2) + arr[i]\n",
    "        B = rec_opt(arr, i - 1)\n",
    "        return max(A, B)\n",
    "\n",
    "\"\"\"\n",
    "通过申明一个数组，存储每次计算出来的opt[i],直到计算出opt[6]\n",
    "\"\"\"\n",
    "import numpy as np\n",
    "def dp_opt(arr):\n",
    "    opt = np.zeros(len(arr))\n",
    "    opt[0] = arr[0]\n",
    "    opt[1] = max(arr[0], arr[1])\n",
    "    for i in range(2, len(arr)):\n",
    "        A = opt[i-2] + arr[i]\n",
    "        B = opt[i-1]\n",
    "        opt[i] = max(A, B)\n",
    "    return opt[ len(arr)-1 ]"
   ]
  },
  {
   "cell_type": "code",
   "execution_count": 9,
   "metadata": {},
   "outputs": [
    {
     "name": "stdout",
     "output_type": "stream",
     "text": [
      "15 15.0\n"
     ]
    }
   ],
   "source": [
    "rec = rec_opt(arr, 6)\n",
    "dp = dp_opt(arr)\n",
    "print(rec, dp)"
   ]
  },
  {
   "cell_type": "markdown",
   "metadata": {},
   "source": [
    "### 2.数组选取一些数加起来等于给定的数"
   ]
  },
  {
   "cell_type": "markdown",
   "metadata": {},
   "source": [
    "![dp1](./dp2.png)"
   ]
  },
  {
   "cell_type": "markdown",
   "metadata": {},
   "source": [
    "* 递归：  \n",
    "问题抽象为如下两个问题，目标值为9，   \n",
    "1，选取最后一个数，剩余优化目标为在其他四个数中选选取数字和为7   \n",
    "2，不选取最后一个数，剩余优化目标为在其他四个数中选取数字和为9   \n",
    "如上图所示：\n",
    "    递归的出口为：      \n",
    "    if s == 0:   \n",
    "      return True  \n",
    "    if i == 0:  \n",
    "      return arr[0] == s  \n",
    "      \n",
    "* 填表：   \n",
    "![dp1](./dp2_2.png)"
   ]
  },
  {
   "cell_type": "code",
   "execution_count": 39,
   "metadata": {},
   "outputs": [],
   "source": [
    "arr = [3, 34, 4, 12, 5, 2]\n",
    "def rec_subset(arr, s, i):\n",
    "    if s == 0:\n",
    "        return True\n",
    "    if i == 0:\n",
    "        return arr[0] == s\n",
    "    return rec_opt(arr, s - arr[i], i-1) or rec_opt(arr, s, i - 1)\n",
    "    \n",
    "\n",
    "import numpy as np\n",
    "def dp_subset(arr, s):\n",
    "    subset = np.zeros((len(arr), s+1), dtype=bool)\n",
    "    subset[:, 0] = True\n",
    "    subset[0, :] = False\n",
    "    subset[0, arr[0]] = True\n",
    "    for i in range(1, len(arr)):\n",
    "        for s in range(1, s+1):\n",
    "            if arr[i] > s:\n",
    "                subset[i, s] = subset[i-1, s]\n",
    "            else:\n",
    "                A = subset[i-1, s-arr[i]]\n",
    "                B = subset[i-1, s]\n",
    "                subset[i, s] = A or B\n",
    "    r, c = subset.shape\n",
    "    return subset[r-1, c-1]\n",
    "    \n",
    "    \n",
    "    "
   ]
  },
  {
   "cell_type": "code",
   "execution_count": 40,
   "metadata": {},
   "outputs": [
    {
     "name": "stdout",
     "output_type": "stream",
     "text": [
      "True\n",
      "True\n",
      "True\n",
      "True\n",
      "False\n"
     ]
    }
   ],
   "source": [
    "print(rec_subset(arr, 9, len(arr)-1))\n",
    "print(rec_subset(arr, 10, len(arr)-1))\n",
    "print(rec_subset(arr, 11, len(arr)-1))\n",
    "print(rec_subset(arr, 12, len(arr)-1))\n",
    "print(rec_subset(arr, 13, len(arr)-1))"
   ]
  },
  {
   "cell_type": "code",
   "execution_count": 35,
   "metadata": {},
   "outputs": [
    {
     "name": "stdout",
     "output_type": "stream",
     "text": [
      "True\n",
      "True\n",
      "True\n",
      "True\n",
      "False\n"
     ]
    }
   ],
   "source": [
    "print(dp_subset(arr, 9 ))\n",
    "print(dp_subset(arr, 10 ))\n",
    "print(dp_subset(arr, 11 ))\n",
    "print(dp_subset(arr, 12 ))\n",
    "print(dp_subset(arr, 13 ))"
   ]
  },
  {
   "cell_type": "markdown",
   "metadata": {},
   "source": [
    "### 3.最大子序和"
   ]
  },
  {
   "cell_type": "markdown",
   "metadata": {},
   "source": [
    "给定一个整数数组 nums ，找到一个具有最大和的连续子数组（子数组最少包含一个元素），   \n",
    "返回其最大和。"
   ]
  },
  {
   "cell_type": "markdown",
   "metadata": {},
   "source": [
    "> example 1  \n",
    "```\n",
    "输入: [-2,1,-3,4,-1,2,1,-5,4],\n",
    "输出: 6\n",
    "解释: 连续子数组 [4,-1,2,1] 的和最大，为 6。\n",
    "```   "
   ]
  },
  {
   "cell_type": "markdown",
   "metadata": {},
   "source": [
    "####   解题方案\n",
    "``` \n",
    "动态规划法，虽然我还不太懂，\n",
    "状态方程\n",
    "\n",
    "f(i)=max(f(i-1)+a[i],a[i])\n",
    "\n",
    "```"
   ]
  },
  {
   "cell_type": "code",
   "execution_count": 42,
   "metadata": {},
   "outputs": [],
   "source": [
    "def maxSubArray(nums):\n",
    "    res  =  max_sum = -999999999999999999999999999999\n",
    "    for i in nums:\n",
    "        max_sum = max(max_sum + i, i)\n",
    "        res = max(res, max_sum)\n",
    "    return res"
   ]
  },
  {
   "cell_type": "code",
   "execution_count": 43,
   "metadata": {},
   "outputs": [
    {
     "name": "stdout",
     "output_type": "stream",
     "text": [
      "6\n"
     ]
    }
   ],
   "source": [
    "nums = [-2,1,-3,4,-1,2,1,-5,4]\n",
    "print(maxSubArray(nums))"
   ]
  },
  {
   "cell_type": "markdown",
   "metadata": {},
   "source": [
    "### 4. 买卖股票的最佳时机"
   ]
  },
  {
   "cell_type": "markdown",
   "metadata": {},
   "source": [
    "> 内容描述\n",
    "\n",
    "```\n",
    "给定一个数组，它的第 i 个元素是一支给定股票第 i 天的价格。\n",
    "\n",
    "如果你最多只允许完成一笔交易（即买入和卖出一支股票），设计一个算法来计算你所能获取的最大利润。\n",
    "\n",
    "注意你不能在买入股票前卖出股票。\n",
    "```"
   ]
  },
  {
   "cell_type": "markdown",
   "metadata": {},
   "source": [
    "> example 1 \n",
    "```\n",
    "输入: [7,1,5,3,6,4]\n",
    "输出: 5\n",
    "解释: 在第 2 天（股票价格 = 1）的时候买入，在第 5 天（股票价格 = 6）的时候卖出，最大利润 = 6-1 = 5 。\n",
    "     注意利润不能是 7-1 = 6, 因为卖出价格需要大于买入价格。\n",
    "```\n",
    "> example 2\n",
    "```\n",
    "输入: [7,6,4,3,1]\n",
    "输出: 0\n",
    "解释: 在这种情况下, 没有交易完成, 所以最大利润为 0。\n",
    "```"
   ]
  },
  {
   "cell_type": "markdown",
   "metadata": {},
   "source": [
    "####  解题方案\n",
    "``` \n",
    "动态规划\n",
    "\n",
    "前i天的最大收益 = max{前i-1天的最大收益，第i天的价格-前i-1天中的最小价格}\n",
    "\n",
    "```"
   ]
  },
  {
   "cell_type": "code",
   "execution_count": 45,
   "metadata": {},
   "outputs": [],
   "source": [
    "def maxProfit(prices):\n",
    "    \"\"\"\n",
    "    :type prices: List[int]\n",
    "    :rtype: int\n",
    "    \"\"\"\n",
    "    min_price = 9999\n",
    "    max_profile = 0\n",
    "    for p in prices:\n",
    "        max_profile = max(max_profile, p-min_price)\n",
    "        min_price = min(p, min_price)\n",
    "    return max_profile "
   ]
  },
  {
   "cell_type": "code",
   "execution_count": 46,
   "metadata": {},
   "outputs": [
    {
     "name": "stdout",
     "output_type": "stream",
     "text": [
      "5\n"
     ]
    }
   ],
   "source": [
    "nums = [7,1,5,3,6,4]\n",
    "print(maxProfit(nums))"
   ]
  },
  {
   "cell_type": "code",
   "execution_count": null,
   "metadata": {},
   "outputs": [],
   "source": []
  }
 ],
 "metadata": {
  "kernelspec": {
   "display_name": "Python 3",
   "language": "python",
   "name": "python3"
  },
  "language_info": {
   "codemirror_mode": {
    "name": "ipython",
    "version": 3
   },
   "file_extension": ".py",
   "mimetype": "text/x-python",
   "name": "python",
   "nbconvert_exporter": "python",
   "pygments_lexer": "ipython3",
   "version": "3.6.8"
  }
 },
 "nbformat": 4,
 "nbformat_minor": 2
}
