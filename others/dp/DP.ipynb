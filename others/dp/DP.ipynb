{
 "cells": [
  {
   "cell_type": "markdown",
   "metadata": {},
   "source": [
    "##  Dynamic Programing"
   ]
  },
  {
   "cell_type": "markdown",
   "metadata": {},
   "source": [
    "* 动态规划某种意义上就是将问题分解为和原问题相同的子问题，然后用递归解决，但是递归的过程可以用填表的方式代替。节省效率"
   ]
  },
  {
   "cell_type": "markdown",
   "metadata": {},
   "source": [
    "前导问题： 求排列/组合/八皇后"
   ]
  },
  {
   "cell_type": "code",
   "execution_count": 17,
   "metadata": {
    "code_folding": [
     7,
     24,
     55
    ]
   },
   "outputs": [
    {
     "name": "stdout",
     "output_type": "stream",
     "text": [
      "92\n",
      "■ □ □ □ □ □ □ □ \n",
      "□ □ □ □ ■ □ □ □ \n",
      "□ □ □ □ □ □ □ ■ \n",
      "□ □ □ □ □ ■ □ □ \n",
      "□ □ ■ □ □ □ □ □ \n",
      "□ □ □ □ □ □ ■ □ \n",
      "□ ■ □ □ □ □ □ □ \n",
      "□ □ □ ■ □ □ □ □ \n",
      "1\n",
      "■ □ □ □ □ □ □ □ \n",
      "□ □ □ □ □ ■ □ □ \n",
      "□ □ □ □ □ □ □ ■ \n",
      "□ □ ■ □ □ □ □ □ \n",
      "□ □ □ □ □ □ ■ □ \n",
      "□ □ □ ■ □ □ □ □ \n",
      "□ ■ □ □ □ □ □ □ \n",
      "□ □ □ □ ■ □ □ □ \n",
      "2\n",
      "■ □ □ □ □ □ □ □ \n",
      "□ □ □ □ □ □ ■ □ \n",
      "□ □ □ ■ □ □ □ □ \n",
      "□ □ □ □ □ ■ □ □ \n",
      "□ □ □ □ □ □ □ ■ \n",
      "□ ■ □ □ □ □ □ □ \n",
      "□ □ □ □ ■ □ □ □ \n",
      "□ □ ■ □ □ □ □ □ \n"
     ]
    }
   ],
   "source": [
    "# 八皇后问题，是对递归回溯的很好的理解，一定要搞懂\n",
    "# 传说中的for循环里写递归\n",
    "import numpy as np\n",
    "#两个全局变量，一个保存结果，一个记结果的数量\n",
    "result = []\n",
    "count = 0\n",
    "\n",
    "def check(board, pos):\n",
    "    \"\"\"\n",
    "    board:棋盘\n",
    "    pos: (x, y) 代表位置\n",
    "    判断位置(x,y)是否和他上面的位置有冲突\n",
    "    不能在同行、同列和对角线\n",
    "    \"\"\"\n",
    "    x, y = pos\n",
    "    blen = len(board)\n",
    "    for i in range(x):\n",
    "        for j in range(blen):\n",
    "            if board[i][j] == 1:\n",
    "                # 判断是否在同列和对角线\n",
    "                if j == y or abs(j-y) == abs(i - x):\n",
    "                    return False\n",
    "    return True\n",
    "\n",
    "def eightQueen(board, row):\n",
    "    \"\"\"\n",
    "    \n",
    "    board:棋盘\n",
    "    row:第 row行\n",
    "    \"\"\"\n",
    "    #print(row)\n",
    "    #退出条件\n",
    "    blen = len(board)\n",
    "    if row == len(board):  # 来到不存在行，即证明有解\n",
    "        #print(board)\n",
    "        re = board.copy()\n",
    "        result.append(re)\n",
    "        #print(count)\n",
    "        return True\n",
    "    \n",
    "    #对棋盘的row行和y列进行判断是否和之前的位置冲突\n",
    "    for y in range(blen):\n",
    "        if check(board, (row, y)):\n",
    "            board[row][y] = 1         # 放置一个Queen\n",
    "            if not eightQueen(board, row + 1):\n",
    "                board[row][y] = 0\n",
    "            else:\n",
    "                # 要想输出所有答案，这边不能return True\n",
    "                #return True\n",
    "                global count \n",
    "                count +=  1\n",
    "                board[row][y] = 0\n",
    "                \n",
    "    return False\n",
    "\n",
    "def printEightQueen(result):\n",
    "    c = 0\n",
    "    for bor in result:\n",
    "        for row in range(len(bor)):\n",
    "            for col in range(len(bor)):\n",
    "                if bor[row][col] == 1:\n",
    "                    print('■ ', end='')\n",
    "                else:\n",
    "                    print('□ ', end='')\n",
    "            print()\n",
    "        c += 1\n",
    "        if c == 3:\n",
    "            break\n",
    "        print(c)\n",
    "\n",
    "board = np.zeros((8,8))\n",
    "eightQueen(board, row = 0)     \n",
    "print(count)\n",
    "printEightQueen(result)\n"
   ]
  },
  {
   "cell_type": "code",
   "execution_count": 18,
   "metadata": {},
   "outputs": [],
   "source": [
    "\"\"\"\n",
    "半成品\n",
    "组合：从 n个物体选取r个，有几种取法, \n",
    "\"\"\"\n",
    "def nCr(n, r):\n",
    "    if n < r:\n",
    "        return\n",
    "    if r == 0:\n",
    "        # do some thing\n",
    "        #print()\n",
    "        return \n",
    "    # 对于某元素，取了 ，n和r都各减一，没有取的话，则n-1, r不动\n",
    "    # 递推公式： nCr(n ,r) = nCr(n-1, r-1)+nCr(n-1, r)\n",
    "    nCr(n - 1, r - 1)  \n",
    "    nCr(n - 1, r)\n",
    "    return \n",
    "nCr(10, 5)\n",
    "    "
   ]
  },
  {
   "cell_type": "markdown",
   "metadata": {},
   "source": [
    "### 具体问题\n",
    "* 斐波那契\n",
    "* 数组选取不相邻的数求最大和   \n",
    "    * 小偷抢银行 leetcode 198 只能间隔偷东西 \n",
    "* 小兵向前冲\n",
    "* 数组选取一些数加起来等于给定的数\n",
    "* 买卖股票的最佳时机\n",
    "* 最大子序和\n",
    "* 换零钱    \n",
    "    * leetcode 322\n",
    "* 01背包问题   \n",
    "    * 小偷偷东西，价值最大\n",
    "* 完全背包问题\n",
    "* 多重背包问题\n",
    "\n",
    "* 旅行商问题"
   ]
  },
  {
   "cell_type": "markdown",
   "metadata": {},
   "source": [
    "### 1.数组选取不相邻的数求最大和"
   ]
  },
  {
   "cell_type": "markdown",
   "metadata": {},
   "source": [
    "![dp1](./dp1.png)"
   ]
  },
  {
   "cell_type": "code",
   "execution_count": 19,
   "metadata": {
    "code_folding": [
     9,
     25
    ]
   },
   "outputs": [
    {
     "name": "stdout",
     "output_type": "stream",
     "text": [
      "15 15.0\n"
     ]
    }
   ],
   "source": [
    "\"\"\"\n",
    "数组选取不相邻的数求最大和\n",
    "\"\"\"\n",
    "arr = [1, 2, 4, 1, 7, 8, 3]\n",
    "\"\"\"\n",
    "#暴力递归方法 \n",
    "\"\"\"\n",
    "def rec_opt(arr, i):\n",
    "    if i == 0:\n",
    "        return arr[0]\n",
    "    elif i == 1:\n",
    "        return max(arr[0], arr[1])\n",
    "    else:\n",
    "        # 状态转移方程\n",
    "        A = rec_opt(arr, i - 2) + arr[i]\n",
    "        B = rec_opt(arr, i - 1)\n",
    "        return max(A, B)\n",
    "\n",
    "\"\"\"\n",
    "记忆化数组\n",
    "通过申明一个数组，存储每次计算出来的opt[i],直到计算出opt[6]\n",
    "\"\"\"\n",
    "import numpy as np\n",
    "def dp_opt(arr):\n",
    "    opt = np.zeros(len(arr))\n",
    "    opt[0] = arr[0]\n",
    "    opt[1] = max(arr[0], arr[1])\n",
    "    for i in range(2, len(arr)):\n",
    "        A = opt[i-2] + arr[i]\n",
    "        B = opt[i-1]\n",
    "        opt[i] = max(A, B)\n",
    "    return opt[ len(arr)-1 ]\n",
    "\n",
    "rec = rec_opt(arr, 6)\n",
    "dp = dp_opt(arr)\n",
    "print(rec, dp)"
   ]
  },
  {
   "cell_type": "markdown",
   "metadata": {},
   "source": [
    "#### 1.02 小偷偷东西，不能偷连续的"
   ]
  },
  {
   "cell_type": "code",
   "execution_count": 20,
   "metadata": {
    "code_folding": [
     1
    ]
   },
   "outputs": [],
   "source": [
    "# leetcode 198\n",
    "class Solution(object):\n",
    "    \"\"\"\n",
    "    动态规划\n",
    "    记忆化搜索、递归、空间换时间、数组存储之前计算过的值\n",
    "    时间复杂度 O(n)\n",
    "    公式：\n",
    "    max(nums[idx] + self.solve(idx-2, nums), self.solve(idx-1, nums))\n",
    "    \"\"\"\n",
    "    \n",
    "    \"\"\"\n",
    "    方法一，暴力递归\n",
    "    def solve(self,idx, nums):\n",
    "        if idx < 0:\n",
    "            return 0\n",
    "        result = max(nums[idx] + self.solve(idx-2, nums), self.solve(idx-1, nums))\n",
    "        return result   \n",
    "    def rob(self, nums):\n",
    "        return self.solve(len(nums)-1, nums)\n",
    "    \"\"\"\n",
    "    \n",
    "    \"\"\"\n",
    "    方法二： 递归+结果保存  记忆化搜索\n",
    "    def __init__(self):\n",
    "        self.result = []\n",
    "    def solve(self,idx, nums):\n",
    "        if idx < 0:\n",
    "            return 0\n",
    "        if self.result[idx] >= 0:\n",
    "            return self.result[idx]\n",
    "        self.result[idx] = max(nums[idx] + self.solve(idx-2, nums), self.solve(idx-1, nums))\n",
    "        return self.result[idx]\n",
    "    \n",
    "    def rob(self, nums):\n",
    "        self.result = [-1 for i in range(len(nums))]\n",
    "        return self.solve(len(nums)-1, nums)\n",
    "    \"\"\"\n",
    "    def  rob(self, nums):\n",
    "        \"\"\"\n",
    "        方法三：递推+ 数组保存  记忆化\n",
    "        \"\"\"\n",
    "        if not nums:\n",
    "            return 0\n",
    "        if len(nums) == 1:\n",
    "            return nums[0]\n",
    "        result = [-1 for i in range(len(nums))]\n",
    "        result[0] = nums[0]\n",
    "        result[1] = max(nums[0], nums[1])\n",
    "        \n",
    "        for idx in range(2, len(nums)):\n",
    "            result[idx] = max(nums[idx]+result[idx-2], result[idx-1])\n",
    "        return result[len(nums)-1]\n",
    "        "
   ]
  },
  {
   "cell_type": "markdown",
   "metadata": {},
   "source": [
    "### 2.数组选取一些数加起来等于给定的数"
   ]
  },
  {
   "cell_type": "markdown",
   "metadata": {},
   "source": [
    "![dp1](./dp2.png)"
   ]
  },
  {
   "cell_type": "markdown",
   "metadata": {},
   "source": [
    "* 递归：  \n",
    "问题抽象为如下两个问题，目标值为9，   \n",
    "1，选取最后一个数，剩余优化目标为在其他四个数中选选取数字和为7   \n",
    "2，不选取最后一个数，剩余优化目标为在其他四个数中选取数字和为9   \n",
    "如上图所示：\n",
    "    递归的出口为：      \n",
    "    if s == 0:   \n",
    "      return True  \n",
    "    if i == 0:  \n",
    "      return arr[0] == s  \n",
    "      \n",
    "* 填表：   \n",
    "![dp1](./dp2_2.png)"
   ]
  },
  {
   "cell_type": "code",
   "execution_count": 10,
   "metadata": {
    "code_folding": [
     3,
     14
    ]
   },
   "outputs": [],
   "source": [
    "arr = [3, 34, 4, 12, 5, 2]\n",
    "\n",
    "\n",
    "def rec_subset(arr, s, i):\n",
    "    \"\"\"\n",
    "    暴力递归求子集\n",
    "    \"\"\"\n",
    "    if s == 0:\n",
    "        return True\n",
    "    if i == 0:\n",
    "        return arr[0] == s\n",
    "    return rec_subset(arr, s - arr[i], i-1) or rec_subset(arr, s, i - 1)\n",
    "    \n",
    "import numpy as np\n",
    "def dp_subset(arr, s):\n",
    "    \"\"\"\n",
    "    记忆化数组求子集\n",
    "    \"\"\"\n",
    "    subset = np.zeros((len(arr), s+1), dtype=bool)\n",
    "    subset[:, 0] = True\n",
    "    subset[0, :] = False\n",
    "    subset[0, arr[0]] = True\n",
    "    for i in range(1, len(arr)):\n",
    "        for s in range(1, s+1):\n",
    "            if arr[i] > s:\n",
    "                subset[i, s] = subset[i-1, s]\n",
    "            else:\n",
    "                A = subset[i-1, s-arr[i]]\n",
    "                B = subset[i-1, s]\n",
    "                subset[i, s] = A or B\n",
    "    r, c = subset.shape\n",
    "    return subset[r-1, c-1]\n",
    "       "
   ]
  },
  {
   "cell_type": "code",
   "execution_count": 11,
   "metadata": {},
   "outputs": [
    {
     "name": "stdout",
     "output_type": "stream",
     "text": [
      "True\n",
      "True\n",
      "True\n",
      "True\n",
      "False\n"
     ]
    }
   ],
   "source": [
    "print(rec_subset(arr, 9, len(arr)-1))\n",
    "print(rec_subset(arr, 10, len(arr)-1))\n",
    "print(rec_subset(arr, 11, len(arr)-1))\n",
    "print(rec_subset(arr, 12, len(arr)-1))\n",
    "print(rec_subset(arr, 13, len(arr)-1))"
   ]
  },
  {
   "cell_type": "code",
   "execution_count": 12,
   "metadata": {},
   "outputs": [
    {
     "name": "stdout",
     "output_type": "stream",
     "text": [
      "True\n",
      "True\n",
      "True\n",
      "True\n",
      "False\n"
     ]
    }
   ],
   "source": [
    "print(dp_subset(arr, 9 ))\n",
    "print(dp_subset(arr, 10 ))\n",
    "print(dp_subset(arr, 11 ))\n",
    "print(dp_subset(arr, 12 ))\n",
    "print(dp_subset(arr, 13 ))"
   ]
  },
  {
   "cell_type": "markdown",
   "metadata": {},
   "source": [
    "### 3.小兵向前冲"
   ]
  },
  {
   "cell_type": "markdown",
   "metadata": {},
   "source": [
    "* N*M的棋盘上，小兵要从左下角走到右上角，只能向上或者向右走， 问有多少种走法"
   ]
  },
  {
   "cell_type": "code",
   "execution_count": 13,
   "metadata": {
    "code_folding": [
     0
    ]
   },
   "outputs": [
    {
     "name": "stdout",
     "output_type": "stream",
     "text": [
      "10\n"
     ]
    }
   ],
   "source": [
    "def f(n, m):\n",
    "    \"\"\"\n",
    "    暴力递归\n",
    "    \"\"\"\n",
    "    if n == 0 or m == 0:\n",
    "        return 0\n",
    "    if n == 1 or m == 1:\n",
    "        return 1;\n",
    "    \n",
    "    #递推公式\n",
    "    #从左边过来和从下边过来两种状态相加\n",
    "    return f(n-1, m) + f(n, m - 1)\n",
    "\n",
    "    \"\"\"\n",
    "    f = [[]]\n",
    "    f[0][0] = 0\n",
    "    for i in range(n):\n",
    "        for j in range(m):\n",
    "            f[i][j] = f[i - 1][j] + f[i][j-1]\n",
    "    \"\"\"\n",
    "\n",
    "print(f(3, 4))"
   ]
  },
  {
   "cell_type": "markdown",
   "metadata": {},
   "source": [
    "空间复杂度：   \n",
    "时间复杂度：   \n",
    "组合数的递推公式：   \n",
    "如何某些格子禁止进入？    \n",
    "小兵一次某方向上可以走一步或两步  "
   ]
  },
  {
   "cell_type": "markdown",
   "metadata": {},
   "source": [
    "####  3.01 拓展：排列组合问题"
   ]
  },
  {
   "cell_type": "markdown",
   "metadata": {},
   "source": [
    "### 4.最大子序和"
   ]
  },
  {
   "cell_type": "markdown",
   "metadata": {},
   "source": [
    "给定一个整数数组 nums ，找到一个具有最大和的连续子数组（子数组最少包含一个元素），   \n",
    "返回其最大和。"
   ]
  },
  {
   "cell_type": "markdown",
   "metadata": {},
   "source": [
    "> example 1  \n",
    "```\n",
    "输入: [-2,1,-3,4,-1,2,1,-5,4],\n",
    "输出: 6\n",
    "解释: 连续子数组 [4,-1,2,1] 的和最大，为 6。\n",
    "```   "
   ]
  },
  {
   "cell_type": "markdown",
   "metadata": {},
   "source": [
    "####   解题方案\n",
    "``` \n",
    "动态规划法，虽然我还不太懂，\n",
    "状态方程\n",
    "\n",
    "f(i)=max(f(i-1)+a[i],a[i])\n",
    "\n",
    "```"
   ]
  },
  {
   "cell_type": "code",
   "execution_count": 42,
   "metadata": {},
   "outputs": [],
   "source": [
    "def maxSubArray(nums):\n",
    "    res  =  max_sum = -999999999999999999999999999999\n",
    "    for i in nums:\n",
    "        max_sum = max(max_sum + i, i)\n",
    "        res = max(res, max_sum)\n",
    "    return res"
   ]
  },
  {
   "cell_type": "code",
   "execution_count": 43,
   "metadata": {},
   "outputs": [
    {
     "name": "stdout",
     "output_type": "stream",
     "text": [
      "6\n"
     ]
    }
   ],
   "source": [
    "nums = [-2,1,-3,4,-1,2,1,-5,4]\n",
    "print(maxSubArray(nums))"
   ]
  },
  {
   "cell_type": "markdown",
   "metadata": {},
   "source": [
    "### 5. 买卖股票的最佳时机"
   ]
  },
  {
   "cell_type": "markdown",
   "metadata": {},
   "source": [
    "> 内容描述\n",
    "\n",
    "```\n",
    "给定一个数组，它的第 i 个元素是一支给定股票第 i 天的价格。\n",
    "\n",
    "如果你最多只允许完成一笔交易（即买入和卖出一支股票），设计一个算法来计算你所能获取的最大利润。\n",
    "\n",
    "注意你不能在买入股票前卖出股票。\n",
    "```"
   ]
  },
  {
   "cell_type": "markdown",
   "metadata": {},
   "source": [
    "> example 1 \n",
    "```\n",
    "输入: [7,1,5,3,6,4]\n",
    "输出: 5\n",
    "解释: 在第 2 天（股票价格 = 1）的时候买入，在第 5 天（股票价格 = 6）的时候卖出，最大利润 = 6-1 = 5 。\n",
    "     注意利润不能是 7-1 = 6, 因为卖出价格需要大于买入价格。\n",
    "```\n",
    "> example 2\n",
    "```\n",
    "输入: [7,6,4,3,1]\n",
    "输出: 0\n",
    "解释: 在这种情况下, 没有交易完成, 所以最大利润为 0。\n",
    "```"
   ]
  },
  {
   "cell_type": "markdown",
   "metadata": {},
   "source": [
    "####  解题方案\n",
    "``` \n",
    "动态规划\n",
    "\n",
    "前i天的最大收益 = max{前i-1天的最大收益，第i天的价格-前i-1天中的最小价格}\n",
    "\n",
    "```"
   ]
  },
  {
   "cell_type": "code",
   "execution_count": 45,
   "metadata": {},
   "outputs": [],
   "source": [
    "def maxProfit(prices):\n",
    "    \"\"\"\n",
    "    :type prices: List[int]\n",
    "    :rtype: int\n",
    "    \"\"\"\n",
    "    min_price = 9999\n",
    "    max_profile = 0\n",
    "    for p in prices:\n",
    "        max_profile = max(max_profile, p-min_price)\n",
    "        min_price = min(p, min_price)\n",
    "    return max_profile "
   ]
  },
  {
   "cell_type": "code",
   "execution_count": 46,
   "metadata": {},
   "outputs": [
    {
     "name": "stdout",
     "output_type": "stream",
     "text": [
      "5\n"
     ]
    }
   ],
   "source": [
    "nums = [7,1,5,3,6,4]\n",
    "print(maxProfit(nums))"
   ]
  },
  {
   "cell_type": "markdown",
   "metadata": {},
   "source": [
    "### 6背包问题"
   ]
  },
  {
   "cell_type": "markdown",
   "metadata": {},
   "source": [
    "#### 6. 01背包 小偷偷东西"
   ]
  },
  {
   "cell_type": "markdown",
   "metadata": {},
   "source": [
    "```\n",
    "0-1背包问题是指每一种物品都只有一件，可以选择放或者不放。现在假设有n件物品，背包承重为m。\n",
    "\n",
    "对于这种问题，我们可以采用一个二维数组去解决：f[i][j]，其中i代表加入背包的是前i件物品，j表示背包的承重，f[i][j]表示当前状态下能放进背包里面的物品的最大总价值。那么，f[n][m]就是我们的最终结果了。\n",
    "```"
   ]
  },
  {
   "cell_type": "markdown",
   "metadata": {},
   "source": [
    "```\n",
    "（1）假如我们放进背包，f[i][j] = f[i - 1][j - weight[i]] + value[i]，这里的f[i - 1][j - weight[i]] + value[i]应该这么理解：在没放这件物品之前的状态值加上要放进去这件物品的价值。而对于f[i - 1][j - weight[i]]这部分，i - 1很容易理解，关键是 j - weight[i]这里，我们要明白：要把这件物品放进背包，就得在背包里面预留这一部分空间。\n",
    "\n",
    "（2）假如我们不放进背包，f[i][j] = f[i - 1][j]，这个很容易理解。\n",
    "\n",
    "  因此，我们的状态转移方程就是：f[i][j] = max(f[i][j] = f[i - 1][j] , f[i - 1][j - weight[i]] + value[i])\n",
    "```"
   ]
  },
  {
   "cell_type": "markdown",
   "metadata": {},
   "source": [
    "• 小偷有一个容量为W的背包，有n件物品，第i个物品价值vi，且重wi    \n",
    "• 目标: 找到xi使得对于所有的xi = {0, 1}   \n",
    "• sum(wi*xi) <= W, 并且 sum(xi*vi)最大"
   ]
  },
  {
   "cell_type": "code",
   "execution_count": null,
   "metadata": {},
   "outputs": [],
   "source": [
    "\"\"\"\n",
    "题：重量：w[n] 价值v[n], 总容量为W,\n",
    "解：设目前已拿物品总容量为S,\n",
    "    将 idx 和 S称为状态，\n",
    "\"\"\"\n",
    "\n",
    "def search1(idx, W):\n",
    "    #物品重量超重\n",
    "    #加入这一个物品就装不下了\n",
    "    if w[idx] > W:\n",
    "        return 0\n",
    "    # 物品已经选完 或者背包容量已经不够了\n",
    "    if idx <= 0 or W <= 0:\n",
    "        return 0\n",
    "    \n",
    "    # 拿第idx件物品\n",
    "    A = search1(idx-1, W - w[idx]) + v[idx]\n",
    "    # 不拿第idx件物品\n",
    "    B = search1(idx-1, W)\n",
    "    return max(A, B)\n",
    "search1(n, W)\n",
    "\n",
    "def search2(idx, S):\n",
    "    #物品重量超重\n",
    "    #加入这一个物品就装不下了\n",
    "    if w[idx] > W:\n",
    "        return 0\n",
    "    # 物品已经选完 或者背包容量已经不够了\n",
    "    if idx <= 0 or W <= 0:\n",
    "        return 0\n",
    "    \n",
    "    # 首先得初始化一个二维数组\n",
    "    # 用 f[idx][S] 表示 在第i个物品和重量为S的位置的最大价值\n",
    "    # f数组就是一个备忘录，就是一个状态表，仅仅是为了简化计算，降低冗余\n",
    "    # 优化\n",
    "    if f[idx][S] >= 0:\n",
    "        return f[idx][S]\n",
    "    \n",
    "    f[idx][S] = max(search2(idx-1, W - w[idx]) + v[idx], search2(idx-1, W))\n",
    "    return f[idx][S]\n",
    "\n",
    "def search3(idx, S):\n",
    "    maxValue = 99999\n",
    "    f[0][0] = 0\n",
    "    for i in range(W):\n",
    "        f[0][i] = -maxValue\n",
    "    \n",
    "    #两层for循环去递推到f[n][W],\n",
    "    for idx in range(n):\n",
    "        f[idx][0] = 0\n",
    "        for j in range(1,W):\n",
    "            f[idx][j] = f[idx-1][j]\n",
    "            if j >= w[idx]\n",
    "                f[idx][j] = max(f[idx-1][j - w[idx]] + v[idx], f[idx][j])\n",
    "    return f[n][W]"
   ]
  },
  {
   "cell_type": "markdown",
   "metadata": {},
   "source": [
    "* 没用数组去记忆化搜索的话，时间复杂度为2^n， 空间复杂度为1\n",
    "\n",
    "* 空间复杂度： n * W\n",
    "* 时间复杂度：      \n",
    "     状态表f[idx][S]每个状态只被计算一次，所以时间复杂度也是n * W\n",
    "* 滚动数组： 申明一个二维数组就可以了， 然后 idx%2 去填数组\n",
    "* W很大的话：没有办法\n",
    "* 如果相关值为非整数，无法用数组记忆化搜索\n",
    "* \n",
    "  \n",
    "    \n",
    " "
   ]
  },
  {
   "cell_type": "markdown",
   "metadata": {},
   "source": [
    "### 6.02 换零钱"
   ]
  },
  {
   "cell_type": "markdown",
   "metadata": {},
   "source": [
    "leetcode 322"
   ]
  },
  {
   "cell_type": "markdown",
   "metadata": {},
   "source": [
    "### 7 最长公共子序列"
   ]
  },
  {
   "cell_type": "markdown",
   "metadata": {},
   "source": [
    "• 一个给定序列的子序列是在该序列中删去若干元素后得到的序列   \n",
    "• 给定两个序列X和Y，当另一序列Z既是X的子序列又是Y的子序列时，称Z是序 列X和Y的公共子序列   \n",
    "• 最长公共子序列 • X = (A, B, C, B, D, A, B)   Y = (B, D, C, A, B, A)    \n",
    "• (B, C, B, A) (B, D, A, B)   "
   ]
  },
  {
   "cell_type": "markdown",
   "metadata": {},
   "source": [
    "* 状态方程：   \n",
    "* F(i,j) = max(F(i-1, j), F(i, j-1), F(i-1,j-1)+1)"
   ]
  },
  {
   "cell_type": "code",
   "execution_count": 9,
   "metadata": {},
   "outputs": [
    {
     "ename": "SyntaxError",
     "evalue": "invalid character in identifier (<ipython-input-9-d1a1a5da910f>, line 3)",
     "output_type": "error",
     "traceback": [
      "\u001b[1;36m  File \u001b[1;32m\"<ipython-input-9-d1a1a5da910f>\"\u001b[1;36m, line \u001b[1;32m3\u001b[0m\n\u001b[1;33m    def search(xi, yi)：\u001b[0m\n\u001b[1;37m                      ^\u001b[0m\n\u001b[1;31mSyntaxError\u001b[0m\u001b[1;31m:\u001b[0m invalid character in identifier\n"
     ]
    }
   ],
   "source": [
    "#X[n] 取哪些\n",
    "#Y[m] 取哪些\n",
    "def search1(xi, yi)：\n",
    "    #从前往后搜\n",
    "    \n",
    "    #边界条件1：某一个搜到头了，\n",
    "    if xi > n or yi > m:\n",
    "        return -1\n",
    "    #边界条件2：两个都正好搜到头\n",
    "    if xi == n and yi == m:\n",
    "        return 0\n",
    "    \n",
    "    return max(if X[xi] == Y[yi]:\n",
    "                search1(xi + 1, yi + 1) + 1,\n",
    "                search1(xi, yi + 1),\n",
    "                search1(xi + 1, yi))\n",
    "\n",
    "def search2()：\n",
    "    #从前往后搜\n",
    "    \n",
    "    #边界条件1：某一个搜到头了\n",
    "    if xi > n or yi > m:\n",
    "        return -1\n",
    "    #边界条件2：两个都正好搜到头\n",
    "    if xi == n and yi == m:\n",
    "        return 0\n",
    "    \n",
    "    # 加上记忆化搜索\n",
    "    if f[xi][yi] >= 0:\n",
    "        return f[xi][yi]\n",
    "    \n",
    "    return max(if X[xi] == Y[yi]:\n",
    "                search1(xi + 1, yi + 1) + 1,\n",
    "                search1(xi, yi + 1),\n",
    "                search1(xi + 1, yi))\n",
    "    "
   ]
  },
  {
   "cell_type": "markdown",
   "metadata": {},
   "source": [
    "组合递推公式：   \n",
    "C(n,m) = C(n-1,m-1) + C(n-1, m)  "
   ]
  },
  {
   "cell_type": "markdown",
   "metadata": {},
   "source": [
    "### 8 旅行商问题"
   ]
  },
  {
   "cell_type": "markdown",
   "metadata": {},
   "source": [
    "• 一个商人要不重复的访问N个城市，允许从任意城市出发，在任意城市结束。 现已知任意两个城市之间的道路长度   \n",
    "• 求城市的访问序列，使得商人走过的路程最短   \n",
    "• 例：N=4，访问序列3，4，1，2    \n",
    "• NP问题，最优解无多项式时间算法 "
   ]
  },
  {
   "cell_type": "code",
   "execution_count": 10,
   "metadata": {},
   "outputs": [],
   "source": [
    "# map[n][n]\n",
    "# map[i][j]\n",
    "def search(idx, count):\n",
    "    if count == n:\n",
    "        return 0\n",
    "    min = 10000000000000\n",
    "    for i in range"
   ]
  },
  {
   "cell_type": "code",
   "execution_count": null,
   "metadata": {},
   "outputs": [],
   "source": []
  }
 ],
 "metadata": {
  "kernelspec": {
   "display_name": "Python 3",
   "language": "python",
   "name": "python3"
  },
  "language_info": {
   "codemirror_mode": {
    "name": "ipython",
    "version": 3
   },
   "file_extension": ".py",
   "mimetype": "text/x-python",
   "name": "python",
   "nbconvert_exporter": "python",
   "pygments_lexer": "ipython3",
   "version": "3.6.8"
  }
 },
 "nbformat": 4,
 "nbformat_minor": 2
}
